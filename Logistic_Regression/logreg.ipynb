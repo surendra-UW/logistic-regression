{
  "metadata": {
    "kernelspec": {
      "name": "python",
      "display_name": "Python (Pyodide)",
      "language": "python"
    },
    "language_info": {
      "codemirror_mode": {
        "name": "python",
        "version": 3
      },
      "file_extension": ".py",
      "mimetype": "text/x-python",
      "name": "python",
      "nbconvert_exporter": "python",
      "pygments_lexer": "ipython3",
      "version": "3.8"
    }
  },
  "nbformat_minor": 4,
  "nbformat": 4,
  "cells": [
    {
      "cell_type": "code",
      "source": "import numpy as np\nimport pandas as pd\nimport matplotlib.pyplot as plt",
      "metadata": {
        "trusted": true
      },
      "outputs": [],
      "execution_count": 12
    },
    {
      "cell_type": "code",
      "source": "theta = np.zeros(6)",
      "metadata": {
        "trusted": true
      },
      "outputs": [],
      "execution_count": 69
    },
    {
      "cell_type": "code",
      "source": "df = pd.read_csv('titanic_data.csv')",
      "metadata": {
        "trusted": true
      },
      "outputs": [],
      "execution_count": 14
    },
    {
      "cell_type": "code",
      "source": "df",
      "metadata": {
        "trusted": true
      },
      "outputs": [
        {
          "execution_count": 128,
          "output_type": "execute_result",
          "data": {
            "text/plain": "     Survived  Pclass  Sex   Age  Siblings/Spouses Aboard  \\\n0           0       3    0  22.0                        1   \n1           1       1    1  38.0                        1   \n2           1       3    1  26.0                        0   \n3           1       1    1  35.0                        1   \n4           0       3    0  35.0                        0   \n..        ...     ...  ...   ...                      ...   \n882         0       2    0  27.0                        0   \n883         1       1    1  19.0                        0   \n884         0       3    1   7.0                        1   \n885         1       1    0  26.0                        0   \n886         0       3    0  32.0                        0   \n\n     Parents/Children Aboard     Fare  \n0                          0   7.2500  \n1                          0  71.2833  \n2                          0   7.9250  \n3                          0  53.1000  \n4                          0   8.0500  \n..                       ...      ...  \n882                        0  13.0000  \n883                        0  30.0000  \n884                        2  23.4500  \n885                        0  30.0000  \n886                        0   7.7500  \n\n[887 rows x 7 columns]",
            "text/html": "<div>\n<style scoped>\n    .dataframe tbody tr th:only-of-type {\n        vertical-align: middle;\n    }\n\n    .dataframe tbody tr th {\n        vertical-align: top;\n    }\n\n    .dataframe thead th {\n        text-align: right;\n    }\n</style>\n<table border=\"1\" class=\"dataframe\">\n  <thead>\n    <tr style=\"text-align: right;\">\n      <th></th>\n      <th>Survived</th>\n      <th>Pclass</th>\n      <th>Sex</th>\n      <th>Age</th>\n      <th>Siblings/Spouses Aboard</th>\n      <th>Parents/Children Aboard</th>\n      <th>Fare</th>\n    </tr>\n  </thead>\n  <tbody>\n    <tr>\n      <th>0</th>\n      <td>0</td>\n      <td>3</td>\n      <td>0</td>\n      <td>22.0</td>\n      <td>1</td>\n      <td>0</td>\n      <td>7.2500</td>\n    </tr>\n    <tr>\n      <th>1</th>\n      <td>1</td>\n      <td>1</td>\n      <td>1</td>\n      <td>38.0</td>\n      <td>1</td>\n      <td>0</td>\n      <td>71.2833</td>\n    </tr>\n    <tr>\n      <th>2</th>\n      <td>1</td>\n      <td>3</td>\n      <td>1</td>\n      <td>26.0</td>\n      <td>0</td>\n      <td>0</td>\n      <td>7.9250</td>\n    </tr>\n    <tr>\n      <th>3</th>\n      <td>1</td>\n      <td>1</td>\n      <td>1</td>\n      <td>35.0</td>\n      <td>1</td>\n      <td>0</td>\n      <td>53.1000</td>\n    </tr>\n    <tr>\n      <th>4</th>\n      <td>0</td>\n      <td>3</td>\n      <td>0</td>\n      <td>35.0</td>\n      <td>0</td>\n      <td>0</td>\n      <td>8.0500</td>\n    </tr>\n    <tr>\n      <th>...</th>\n      <td>...</td>\n      <td>...</td>\n      <td>...</td>\n      <td>...</td>\n      <td>...</td>\n      <td>...</td>\n      <td>...</td>\n    </tr>\n    <tr>\n      <th>882</th>\n      <td>0</td>\n      <td>2</td>\n      <td>0</td>\n      <td>27.0</td>\n      <td>0</td>\n      <td>0</td>\n      <td>13.0000</td>\n    </tr>\n    <tr>\n      <th>883</th>\n      <td>1</td>\n      <td>1</td>\n      <td>1</td>\n      <td>19.0</td>\n      <td>0</td>\n      <td>0</td>\n      <td>30.0000</td>\n    </tr>\n    <tr>\n      <th>884</th>\n      <td>0</td>\n      <td>3</td>\n      <td>1</td>\n      <td>7.0</td>\n      <td>1</td>\n      <td>2</td>\n      <td>23.4500</td>\n    </tr>\n    <tr>\n      <th>885</th>\n      <td>1</td>\n      <td>1</td>\n      <td>0</td>\n      <td>26.0</td>\n      <td>0</td>\n      <td>0</td>\n      <td>30.0000</td>\n    </tr>\n    <tr>\n      <th>886</th>\n      <td>0</td>\n      <td>3</td>\n      <td>0</td>\n      <td>32.0</td>\n      <td>0</td>\n      <td>0</td>\n      <td>7.7500</td>\n    </tr>\n  </tbody>\n</table>\n<p>887 rows × 7 columns</p>\n</div>"
          },
          "metadata": {}
        }
      ],
      "execution_count": 128
    },
    {
      "cell_type": "code",
      "source": "df[(df['Sex'] == 1) & (df['Survived'] == 1)].shape[0]/df[(df['Sex'] == 1)].shape[0]",
      "metadata": {
        "trusted": true
      },
      "outputs": [
        {
          "execution_count": 126,
          "output_type": "execute_result",
          "data": {
            "text/plain": "0.7420382165605095"
          },
          "metadata": {}
        }
      ],
      "execution_count": 126
    },
    {
      "cell_type": "code",
      "source": "split_ratio = 0.9\nnum_samples = df.shape[0]\nnum_train = int(num_samples * split_ratio)\nnum_test = num_samples - num_train",
      "metadata": {
        "trusted": true
      },
      "outputs": [],
      "execution_count": 16
    },
    {
      "cell_type": "code",
      "source": "y = df.iloc[:, 0].astype(np.int32).to_numpy()\nY_train, Y_test = y[:num_train], y[num_train:]",
      "metadata": {
        "trusted": true
      },
      "outputs": [],
      "execution_count": 17
    },
    {
      "cell_type": "code",
      "source": "x = df.iloc[:, 1:7].astype(np.float64).to_numpy().T\nX_train, X_test = x[:,:num_train], x[:,num_train:]",
      "metadata": {
        "trusted": true
      },
      "outputs": [],
      "execution_count": 18
    },
    {
      "cell_type": "code",
      "source": "# x = (x - x.min(axis=0)) / (x.max(axis=0) - x.min(axis=0))\nmean = X_train.mean(axis=1).reshape([6,1])\nstd = X_train.std(axis=1).reshape([6,1])\nX_train, X_test = (X_train-mean)/std, (X_test-mean)/std",
      "metadata": {
        "trusted": true
      },
      "outputs": [],
      "execution_count": 19
    },
    {
      "cell_type": "code",
      "source": "def sigmoid(x):\n  return 1 / (1 + np.exp(-x))",
      "metadata": {
        "trusted": true
      },
      "outputs": [],
      "execution_count": 20
    },
    {
      "cell_type": "code",
      "source": "def find_likelihood(theta, x, y):\n    likelihood = 0\n    for i in range(len(y)):\n        if y[i] == 1:\n            likelihood += np.log(sigmoid(np.matmul(theta, x[:,i])))\n        else:\n            likelihood += np.log(sigmoid(-np.matmul(theta, x[:,i])))\n    return likelihood",
      "metadata": {
        "trusted": true
      },
      "outputs": [],
      "execution_count": 21
    },
    {
      "cell_type": "code",
      "source": "alpha = 10**np.linspace(-4,-1,2000)\nalpha",
      "metadata": {
        "trusted": true
      },
      "outputs": [
        {
          "execution_count": 38,
          "output_type": "execute_result",
          "data": {
            "text/plain": "array([0.0001    , 0.00010035, 0.00010069, ..., 0.09931126, 0.09965504,\n       0.1       ])"
          },
          "metadata": {}
        }
      ],
      "execution_count": 38
    },
    {
      "cell_type": "code",
      "source": "theta_list = []\nlikelihood_list = []\niter = 1000\n# alpha = 10**np.linspace(-3,-1,500)\ndef train(x,y, theta, iter):\n    for i in range(iter):\n        y_hat = sigmoid(np.matmul(theta, x))\n        # print(y_hat)\n        grad = np.sum(x*(y-y_hat), axis=1)\n        # grad_list.append(grad)\n        # print(grad)\n        alpha = 0.001 if i < 30 else 0.0001\n        \n        theta = theta + alpha*grad\n        theta_list.append(theta)\n        # print(theta)\n        \n        likelihood = find_likelihood(theta, x, y)\n        likelihood_list.append(likelihood)",
      "metadata": {
        "trusted": true
      },
      "outputs": [],
      "execution_count": 70
    },
    {
      "cell_type": "code",
      "source": "train(X_train, Y_train,theta, iter)",
      "metadata": {
        "trusted": true
      },
      "outputs": [],
      "execution_count": 71
    },
    {
      "cell_type": "code",
      "source": "\nplt.figure(figsize=(15,4))\nplt.xlabel('iterations')\nplt.ylabel('likelihood')\nplt.title('lieklihood vs learning rate')\nplt.plot(likelihood_list)\nplt.show()",
      "metadata": {
        "trusted": true,
        "scrolled": true
      },
      "outputs": [
        {
          "output_type": "display_data",
          "data": {
            "text/plain": "<Figure size 1500x400 with 1 Axes>",
            "image/png": "[encoded data removed]"
          },
          "metadata": {}
        }
      ],
      "execution_count": 73
    },
    {
      "cell_type": "code",
      "source": "def predict(x,y, theta):                                                                                                                                                                                                                                                                                                                                           \n    y_hat = sigmoid(np.matmul(theta, x))\n    y_pred = list(map(lambda l: 1 if l>=0.5 else 0, y_hat))\n    print(y_pred)\n    count = 0\n    for i in range(len(y)):\n        if y[i] == y_pred[i]:\n            count += 1\n    print('accuracy', count/len(y))\n    return count/len(y)",
      "metadata": {
        "trusted": true
      },
      "outputs": [],
      "execution_count": 90
    },
    {
      "cell_type": "code",
      "source": "predict(X_test, Y_test, theta_list[-1])",
      "metadata": {
        "trusted": true
      },
      "outputs": [
        {
          "name": "stdout",
          "text": "[1, 0, 0, 0, 1, 1, 0, 1, 0, 0, 0, 1, 0, 1, 1, 0, 0, 0, 1, 0, 1, 1, 0, 0, 0, 1, 0, 1, 1, 1, 0, 0, 0, 1, 0, 0, 0, 1, 0, 0, 1, 0, 0, 0, 0, 0, 0, 1, 0, 0, 1, 1, 1, 1, 1, 0, 1, 0, 0, 0, 1, 0, 0, 1, 1, 1, 0, 0, 0, 1, 1, 0, 1, 1, 0, 0, 0, 1, 1, 0, 1, 0, 0, 1, 0, 1, 1, 1, 0]\naccuracy 0.7752808988764045\n",
          "output_type": "stream"
        },
        {
          "execution_count": 91,
          "output_type": "execute_result",
          "data": {
            "text/plain": "0.7752808988764045"
          },
          "metadata": {}
        }
      ],
      "execution_count": 91
    },
    {
      "cell_type": "code",
      "source": "theta_star = theta_list[-1]",
      "metadata": {
        "trusted": true
      },
      "outputs": [],
      "execution_count": 79
    },
    {
      "cell_type": "code",
      "source": "theta_star",
      "metadata": {
        "trusted": true
      },
      "outputs": [
        {
          "execution_count": 110,
          "output_type": "execute_result",
          "data": {
            "text/plain": "array([-0.88150697,  1.35276923, -0.56007237, -0.37063885, -0.13861887,\n        0.23049696])"
          },
          "metadata": {}
        }
      ],
      "execution_count": 110
    },
    {
      "cell_type": "code",
      "source": "#information matrix\ndef expo(x):\n    return np.exp(-x)/(1+np.exp(-x))**2\n\ndef information_matrix(x, theta):\n    info = np.zeros((x.shape[0], x.shape[0]))\n    for i in range(len(x)):\n        info += expo(theta@x[:, i])*(x[:, i].reshape(-1, 1)@x[:, i].reshape(-1, 1).T)\n    return info\n",
      "metadata": {
        "trusted": true
      },
      "outputs": [],
      "execution_count": 101
    },
    {
      "cell_type": "code",
      "source": "infomat = information_matrix(X_train, theta_star)",
      "metadata": {
        "trusted": true
      },
      "outputs": [],
      "execution_count": 102
    },
    {
      "cell_type": "code",
      "source": "infomat_inv = np.linalg.inv(infomat)",
      "metadata": {
        "trusted": true
      },
      "outputs": [],
      "execution_count": 106
    },
    {
      "cell_type": "code",
      "source": "X_train[:, 0].reshape(-1, 1)@(X_train[:, 0].reshape(-1, 1).T)",
      "metadata": {
        "trusted": true,
        "scrolled": true
      },
      "outputs": [
        {
          "execution_count": 105,
          "output_type": "execute_result",
          "data": {
            "text/plain": "array([[ 0.69947432, -0.62167514, -0.45399383,  0.37633168, -0.39206199,\n        -0.41985647],\n       [-0.62167514,  0.55252918,  0.40349827, -0.33447411,  0.34845481,\n         0.37315785],\n       [-0.45399383,  0.40349827,  0.29466471, -0.24425809,  0.25446785,\n         0.27250786],\n       [ 0.37633168, -0.33447411, -0.24425809,  0.20247425, -0.21093748,\n        -0.22589149],\n       [-0.39206199,  0.34845481,  0.25446785, -0.21093748,  0.21975446,\n         0.23533353],\n       [-0.41985647,  0.37315785,  0.27250786, -0.22589149,  0.23533353,\n         0.25201706]])"
          },
          "metadata": {}
        }
      ],
      "execution_count": 105
    },
    {
      "cell_type": "code",
      "source": "#section 3.4 significant features\ncov_mat = [infomat_inv[i][i] for i in range(6)] \ntheta_sq = theta_star**2\ntheta_sq/cov_mat",
      "metadata": {
        "trusted": true
      },
      "outputs": [],
      "execution_count": null
    },
    {
      "cell_type": "code",
      "source": "#section 3a\n#own feature vector \nX_new = np.array([[2], [0], [25], [0], [0], [20]])\nX_newnorm = (X_new-mean)/std\nY_new = sigmoid(theta_star@X_newnorm)\nY_new",
      "metadata": {
        "trusted": true
      },
      "outputs": [
        {
          "execution_count": 156,
          "output_type": "execute_result",
          "data": {
            "text/plain": "array([0.5262661])"
          },
          "metadata": {}
        }
      ],
      "execution_count": 156
    },
    {
      "cell_type": "code",
      "source": "#section 3b \nstd = np.sqrt(X_newnorm.T@infomat_inv@X_newnorm)\n",
      "metadata": {
        "trusted": true
      },
      "outputs": [
        {
          "execution_count": 152,
          "output_type": "execute_result",
          "data": {
            "text/plain": "array([[9.25919659]])"
          },
          "metadata": {}
        }
      ],
      "execution_count": 152
    },
    {
      "cell_type": "code",
      "source": "(theta_star@X_newnorm)",
      "metadata": {
        "trusted": true
      },
      "outputs": [
        {
          "execution_count": 153,
          "output_type": "execute_result",
          "data": {
            "text/plain": "array([-0.31540031])"
          },
          "metadata": {}
        }
      ],
      "execution_count": 153
    },
    {
      "cell_type": "code",
      "source": "1.96*9.25919659/800**0.5",
      "metadata": {
        "trusted": true
      },
      "outputs": [
        {
          "execution_count": 157,
          "output_type": "execute_result",
          "data": {
            "text/plain": "0.6416295883185789"
          },
          "metadata": {}
        }
      ],
      "execution_count": 157
    },
    {
      "cell_type": "code",
      "source": "#log-odds interval\ninterval = np.array([-1, 0.4])\nnp.exp(interval)",
      "metadata": {
        "trusted": true
      },
      "outputs": [
        {
          "execution_count": 155,
          "output_type": "execute_result",
          "data": {
            "text/plain": "array([0.36787944, 1.4918247 ])"
          },
          "metadata": {}
        }
      ],
      "execution_count": 155
    },
    {
      "cell_type": "code",
      "source": "",
      "metadata": {
        "trusted": true
      },
      "outputs": [],
      "execution_count": null
    }
  ]
}